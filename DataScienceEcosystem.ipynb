{
 "cells": [
  {
   "cell_type": "markdown",
   "id": "87b20d0d-574b-4acb-9e1b-11da55c6c8fe",
   "metadata": {},
   "source": [
    "# Data Science Tools and Ecosystem #"
   ]
  },
  {
   "cell_type": "markdown",
   "id": "e5eb30e1-7c57-47e1-8ce1-4dde5d90a202",
   "metadata": {},
   "source": [
    "### In this notebook, Data Science Tools and Ecosystems are summarized ###"
   ]
  },
  {
   "cell_type": "markdown",
   "id": "a94b07d5-6b3c-4190-bb13-90f3cda019c3",
   "metadata": {},
   "source": [
    "__Objectives:__ \n",
    "- List popular languages that Data Scientists use\n",
    "- List some connonly used libraries used by Data Scientists\n",
    "- List some open source Tools widely used by Data Scientists\n",
    "- Provide some examples of creating arithmetic formulas in Python "
   ]
  },
  {
   "cell_type": "markdown",
   "id": "11acd2a1-3fdd-4b92-8947-f9df4f490680",
   "metadata": {},
   "source": [
    "## Author\n",
    "Arthur de Zeeuw\n"
   ]
  },
  {
   "cell_type": "markdown",
   "id": "6b89c231-0b6a-4ef6-b9f4-30b29b03a61e",
   "metadata": {},
   "source": [
    "##### Some of the popular languages that Data Scientists use are:\n",
    "1. Python\n",
    "2. R\n",
    "3. Scala"
   ]
  },
  {
   "cell_type": "markdown",
   "id": "95080ee1-a1db-45e0-86c8-cb69fd72f36a",
   "metadata": {},
   "source": [
    "#### Some of the commonly used libraries used by Data Scientists include:\n",
    "1. NumPy\n",
    "2. Pandas\n",
    "4. SciPy\n",
    "5. Matplotlib"
   ]
  },
  {
   "cell_type": "markdown",
   "id": "b9a3b090-4cae-45d0-ab7d-1629a1f09019",
   "metadata": {},
   "source": [
    "|Data Science Tools|\n",
    "--------------------\n",
    "|Jupyter Notebooks|\n",
    "|RStudio|\n",
    "|Visual Studio|\n",
    "|Google Colab|\n"
   ]
  },
  {
   "cell_type": "markdown",
   "id": "01803b37-64f5-4b25-9ad4-6c882daf55e6",
   "metadata": {},
   "source": [
    "### Below are a few examples of evaluating arithmetic expressions in Python"
   ]
  },
  {
   "cell_type": "code",
   "execution_count": 1,
   "id": "ea67aa95-14e5-4f53-abf3-14567dec32b2",
   "metadata": {},
   "outputs": [
    {
     "data": {
      "text/plain": [
       "17"
      ]
     },
     "execution_count": 1,
     "metadata": {},
     "output_type": "execute_result"
    }
   ],
   "source": [
    "# This is a simple arithmetic expression to multiply 3 * 4 and then add 5 to the result \n",
    "3 * 4 + 5"
   ]
  },
  {
   "cell_type": "code",
   "execution_count": 6,
   "id": "31213d26-c9b1-4629-aae2-b3aaaf1bacb4",
   "metadata": {},
   "outputs": [
    {
     "data": {
      "text/plain": [
       "3.3333333333333335"
      ]
     },
     "execution_count": 6,
     "metadata": {},
     "output_type": "execute_result"
    }
   ],
   "source": [
    "# Below is a formula that converst 200 minutes into hours\n",
    "hours = 200 / 60\n",
    "hours"
   ]
  }
 ],
 "metadata": {
  "kernelspec": {
   "display_name": "Python 3 (ipykernel)",
   "language": "python",
   "name": "python3"
  },
  "language_info": {
   "codemirror_mode": {
    "name": "ipython",
    "version": 3
   },
   "file_extension": ".py",
   "mimetype": "text/x-python",
   "name": "python",
   "nbconvert_exporter": "python",
   "pygments_lexer": "ipython3",
   "version": "3.11.5"
  }
 },
 "nbformat": 4,
 "nbformat_minor": 5
}
